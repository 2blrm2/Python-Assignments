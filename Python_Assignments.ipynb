{
 "cells": [
  {
   "cell_type": "markdown",
   "metadata": {},
   "source": [
    "# Python Assigmnents"
   ]
  },
  {
   "cell_type": "markdown",
   "metadata": {},
   "source": [
    "### 1) Write a program to print twin primes less than 1000. If two consecutive odd numbers are both prime then they are known as twin primes"
   ]
  },
  {
   "cell_type": "code",
   "execution_count": 15,
   "metadata": {},
   "outputs": [
    {
     "name": "stdout",
     "output_type": "stream",
     "text": [
      "Twin prime numbers less than 1000 are ------\n",
      " [(3, 'and', 5), (5, 'and', 7), (11, 'and', 13), (17, 'and', 19), (29, 'and', 31), (41, 'and', 43), (59, 'and', 61), (71, 'and', 73), (101, 'and', 103), (107, 'and', 109), (137, 'and', 139), (149, 'and', 151), (179, 'and', 181), (191, 'and', 193), (197, 'and', 199), (227, 'and', 229), (239, 'and', 241), (269, 'and', 271), (281, 'and', 283), (311, 'and', 313), (347, 'and', 349), (419, 'and', 421), (431, 'and', 433), (461, 'and', 463), (521, 'and', 523), (569, 'and', 571), (599, 'and', 601), (617, 'and', 619), (641, 'and', 643), (659, 'and', 661), (809, 'and', 811), (821, 'and', 823), (827, 'and', 829), (857, 'and', 859), (881, 'and', 883)]\n"
     ]
    }
   ],
   "source": [
    "def prime(n) :\n",
    "    for i in range(2,n):\n",
    "        if n%i == 0 :\n",
    "            return False \n",
    "    return True\n",
    "\n",
    "def twins(x):\n",
    "    p=[]                #list where all all twins prime numbers wiill be stored\n",
    "    for i in range(2,x) :\n",
    "        \n",
    "        if prime(i):\n",
    "            j=i+2\n",
    "            if prime(j):\n",
    "                p.append((i,'and',j))\n",
    "    print(f'Twin prime numbers less than {x} are ------\\n',p)\n",
    "    \n",
    "########################################################\n",
    "twins(1000)\n"
   ]
  },
  {
   "cell_type": "markdown",
   "metadata": {},
   "source": [
    "## 2)Write a program to find out the prime factors of a number. Example: prime factors of 56 is 2, 2, 2,7"
   ]
  },
  {
   "cell_type": "code",
   "execution_count": 14,
   "metadata": {},
   "outputs": [
    {
     "name": "stdout",
     "output_type": "stream",
     "text": [
      "[2, 2, 2, 5]\n",
      "[17]\n",
      "[109]\n",
      "[2, 37]\n"
     ]
    }
   ],
   "source": [
    "# A number have prime factors either 2 or odd prime numbers like 3,5,7,11,17.....\n",
    "# Every no. has odd prime factor less than its square root\n",
    "\n",
    "def prime_fact(n) :\n",
    "    \n",
    "    prime_factors = []\n",
    "    \n",
    "    #checking for 2's---\n",
    "    while (n%2 ==0) :\n",
    "            prime_factors.append(2)\n",
    "            n=n/2\n",
    "    #checking for odds----\n",
    "    from math import sqrt             \n",
    "    for i in range(3,int(sqrt(n))+1,2) :        #output of math.sqrt is float\n",
    "        while(n%i == 0) :\n",
    "            prime_factors.append(i)\n",
    "            n=n/i\n",
    "            \n",
    "    #2nd last prime factor is les then its square root and last primifactor is remaining value of n\n",
    "    #Also useful when no. is prime\n",
    "    if(n>2):\n",
    "        prime_factors.append(int(n))\n",
    "                  \n",
    "    print(prime_factors)\n",
    "############################################################           \n",
    "   \n",
    "prime_fact(40)\n",
    "prime_fact(17)\n",
    "prime_fact(109)\n",
    "prime_fact(74)"
   ]
  },
  {
   "cell_type": "markdown",
   "metadata": {},
   "source": [
    "### 3) Write a program to implement these formulae of permutations and combinations. Number of permutations of n objects taken r at a time: p(n, r) = n! / (n-r)!. Number of combinations of n objects taken r at a time is: c(n, r) = n! / (r!*(n-r)!) = p(n,r) / r!"
   ]
  },
  {
   "cell_type": "code",
   "execution_count": 16,
   "metadata": {},
   "outputs": [
    {
     "name": "stdout",
     "output_type": "stream",
     "text": [
      "factorial not possible\n",
      "120\n",
      "10.0\n",
      "Operation not possible since factorail of -ve no is not possible\n",
      "60.0\n"
     ]
    }
   ],
   "source": [
    "def fact(n) :\n",
    "    if n <=-1 :\n",
    "        return \"factorial not possible\"\n",
    "    elif n ==1 :\n",
    "        return 1\n",
    "    else :\n",
    "        return fact(n-1)*n        \n",
    "\n",
    "def permu(n,r):\n",
    "    if n > 0 and r > 0 :\n",
    "        return fact(n)/fact(n-r)\n",
    "    else :\n",
    "        return(\"Operation not possible since factorail of -ve no is not possible\")\n",
    "\n",
    "def combu(n,r):\n",
    "    if n > 0 and r > 0 :\n",
    "        return fact(n)/(fact(n-r)*fact(r)) \n",
    "    else :\n",
    "        return(\"Operation not possible since factorail of -ve no is not possible\")\n",
    "    \n",
    "###################################################################################################\n",
    "print(fact(-5))\n",
    "print(fact(5))\n",
    "print(combu(5,3))\n",
    "print(permu(-7,3))\n",
    "print(permu(5,3))\n"
   ]
  },
  {
   "cell_type": "markdown",
   "metadata": {},
   "source": [
    "### 4) Write a function that converts a decimal number to binary number"
   ]
  },
  {
   "cell_type": "code",
   "execution_count": 17,
   "metadata": {},
   "outputs": [
    {
     "name": "stdout",
     "output_type": "stream",
     "text": [
      "[1, 0, 0, 0, 0]\n",
      "[1, 1, 0, 0, 1, 0]\n",
      "[1, 1, 1, 0, 0, 1]\n"
     ]
    }
   ],
   "source": [
    "def binary_con(n) :\n",
    "    d =[]\n",
    "    while(n> 1):\n",
    "        d.append(n%2)\n",
    "        n= n//2\n",
    "    if n==1:\n",
    "        d.append(1)\n",
    "    return d[::-1]\n",
    "#####################################################################\n",
    "print(binary_con(16))\n",
    "print(binary_con(50))\n",
    "print(binary_con(57))"
   ]
  },
  {
   "cell_type": "markdown",
   "metadata": {},
   "source": [
    "### 5) Write a function cubesum() that accepts an integer and returns the sum of the cubes of individual digits of that number. Use this function to make functions PrintArmstrong() and isArmstrong() to print Armstrong numbers and to find whether is an Armstrong number"
   ]
  },
  {
   "cell_type": "code",
   "execution_count": 35,
   "metadata": {},
   "outputs": [
    {
     "name": "stdout",
     "output_type": "stream",
     "text": [
      "407\n",
      "143 is not an armstrong number\n",
      "153 is an armstrong number\n"
     ]
    },
    {
     "data": {
      "text/plain": [
       "[1, 153, 370, 371, 407]"
      ]
     },
     "execution_count": 35,
     "metadata": {},
     "output_type": "execute_result"
    }
   ],
   "source": [
    "def cubesum(n) :\n",
    "    if n >= 0 :\n",
    "        n=str(n)\n",
    "        l=list(n)\n",
    "        p=0\n",
    "        for i in range(0,len(l)):\n",
    "            p=p+(int(l[i])**3)\n",
    "        return(p)\n",
    "    else :\n",
    "        return \"Number is negative\"\n",
    "    \n",
    "def isArmstrong(n):\n",
    "    if n== cubesum(n):\n",
    "        print(f\"{n} is an armstrong number\")\n",
    "    else :\n",
    "        print(f'{n} is not an armstrong number')\n",
    "        \n",
    "def printArmstrong(n):\n",
    "    list=[]\n",
    "    for i in range(1,n+1):\n",
    "        if i==cubesum(i):\n",
    "            list.append(i)\n",
    "    return list\n",
    "    \n",
    "###################################################        \n",
    "print(cubesum(407)) \n",
    "isArmstrong(143)\n",
    "isArmstrong(153)\n",
    "printArmstrong(1000)"
   ]
  },
  {
   "cell_type": "markdown",
   "metadata": {},
   "source": [
    "### 6) Write a function prodDigits() that inputs a number and returns the product of digits of that number"
   ]
  },
  {
   "cell_type": "code",
   "execution_count": 57,
   "metadata": {},
   "outputs": [
    {
     "name": "stdout",
     "output_type": "stream",
     "text": [
      "336\n"
     ]
    }
   ],
   "source": [
    "def prodDigits(n):\n",
    "    p=1;\n",
    "    while(n>0):\n",
    "        p=p*(n%10)\n",
    "        n= n//10\n",
    "    return p\n",
    "print(prodDigits(678))"
   ]
  },
  {
   "cell_type": "markdown",
   "metadata": {},
   "source": [
    "### 7) If all digits of a number n are multiplied by each other repeating with the product, the one digit number obtained at last is called the multiplicative digital root of n. The number of times digits need to be multiplied to reach one digit is called the multiplicative persistance of n. Example: 86 -> 48 -> 32 -> 6 (MDR 6, MPersistence 3) 341 -> 12->2 (MDR 2, MPersistence 2) Using the function prodDigits() of previous exercise write functions MDR() and MPersistence() that input a number and return its multiplicative digital root and multiplicative persistence respectively"
   ]
  },
  {
   "cell_type": "code",
   "execution_count": 82,
   "metadata": {},
   "outputs": [
    {
     "name": "stdout",
     "output_type": "stream",
     "text": [
      "MDR states are >> [21, 2]\n",
      "2\n",
      "2\n"
     ]
    }
   ],
   "source": [
    "def MDR(n):\n",
    "    state=[]\n",
    "    while(n>9):\n",
    "        n= prodDigits(n)\n",
    "        state.append(n)\n",
    "    print(f'MDR states are >>',state)\n",
    "    return n\n",
    "\n",
    "def MPersistence(n):\n",
    "    tracker= 0\n",
    "    while(n>9):\n",
    "        n= prodDigits(n)\n",
    "        tracker = tracker+1\n",
    "    return tracker\n",
    "    \n",
    "    \n",
    "print(MDR(173))\n",
    "print(MPersistence(173))"
   ]
  },
  {
   "cell_type": "markdown",
   "metadata": {},
   "source": [
    "### 8) A number is called perfect if the sum of proper divisors of that number is equal to the number. For example 28 is perfect number, since 1+2+4+7+14=28. Write a program to print all the perfect numbers in a given range"
   ]
  },
  {
   "cell_type": "code",
   "execution_count": 90,
   "metadata": {},
   "outputs": [
    {
     "name": "stdout",
     "output_type": "stream",
     "text": [
      "[6, 28, 496]\n"
     ]
    }
   ],
   "source": [
    "def Sum_of_properDivisor(n):\n",
    "    lst=[]\n",
    "    for i in range(1,n):\n",
    "        if n%i==0:\n",
    "            lst.append(i)\n",
    "    return sum(lst)\n",
    "\n",
    "def perfect_numbers(n):\n",
    "    lst=[]\n",
    "    for i in range(1,n+1):\n",
    "        if Sum_of_properDivisor(i)==i:\n",
    "            lst.append(i)\n",
    "    return(lst)\n",
    "\n",
    "print(perfect_numbers(1000))\n",
    "    "
   ]
  },
  {
   "cell_type": "markdown",
   "metadata": {},
   "source": [
    "### 09) Two different numbers are called amicable numbers if the sum of the proper divisors of each is equal to the other number. For example 220 and 284 are amicable numbers. Sum of proper divisors of 220 = 1+2+4+5+10+11+20+22+44+55+110 = 284 Sum of proper divisors of 284 = 1+2+4+71+142 = 220 Write a function to print pairs of amicable numbers in a range"
   ]
  },
  {
   "cell_type": "code",
   "execution_count": 108,
   "metadata": {},
   "outputs": [
    {
     "name": "stdout",
     "output_type": "stream",
     "text": [
      "[(6, 'and', 6), (28, 'and', 28), (220, 'and', 284), (284, 'and', 220), (496, 'and', 496), (1184, 'and', 1210), (1210, 'and', 1184), (2620, 'and', 2924), (2924, 'and', 2620)]\n"
     ]
    }
   ],
   "source": [
    "def is_amicable(p,q):\n",
    "    if Sum_of_properDivisor(p)== q and Sum_of_properDivisor(q)== p:\n",
    "        return True\n",
    "    else :\n",
    "        return False\n",
    "                                          # 4>> 1,2,4  sp=7  and 7>> 1,7 sp= 8 (not amicable)\n",
    "def amicable_numbers(n):                  #6>>1,2,3    sp=6  and 6>>1,2,3    sp=6  (amicable)\n",
    "    list=[]\n",
    "    for i in range(1,n+1):\n",
    "        p=i\n",
    "        q=Sum_of_properDivisor(p)\n",
    "        if is_amicable(p,q) :\n",
    "            list.append((p,'and',q))\n",
    "    print(list)\n",
    "######################################   \n",
    "amicable_numbers(3000)"
   ]
  },
  {
   "cell_type": "markdown",
   "metadata": {},
   "source": [
    "### 10) From a given list  A=[1,2,3,4,5,6,7,8,9,10] filter even numbers and make its cube"
   ]
  },
  {
   "cell_type": "code",
   "execution_count": 48,
   "metadata": {},
   "outputs": [
    {
     "name": "stdout",
     "output_type": "stream",
     "text": [
      "[8, 64, 216, 512, 1000]\n"
     ]
    }
   ],
   "source": [
    "A =[1,2,3,4,5,6,7,8,9,10] \n",
    "\n",
    "B= list(filter(lambda x : x%2==0,A))   # lambda x:y >>>>Inside filter function when we use lambda the  \n",
    "                                       #    trem after :  is condition part(i.e y is condition part)\n",
    "C = list(map(lambda x : x**3,B))   #Return dtype of list and filter is always onject not list\n",
    "\n",
    "print(C)"
   ]
  },
  {
   "cell_type": "code",
   "execution_count": 50,
   "metadata": {},
   "outputs": [
    {
     "name": "stdout",
     "output_type": "stream",
     "text": [
      "[8, 64, 216, 512, 1000]\n"
     ]
    }
   ],
   "source": [
    "a =[1,2,3,4,5,6,7,8,9,10] \n",
    "b =list(map(lambda x:x**3,list(filter(lambda x:x%2==0,a))))\n",
    "print(b)"
   ]
  },
  {
   "cell_type": "code",
   "execution_count": null,
   "metadata": {},
   "outputs": [],
   "source": []
  }
 ],
 "metadata": {
  "kernelspec": {
   "display_name": "Python 3",
   "language": "python",
   "name": "python3"
  },
  "language_info": {
   "codemirror_mode": {
    "name": "ipython",
    "version": 3
   },
   "file_extension": ".py",
   "mimetype": "text/x-python",
   "name": "python",
   "nbconvert_exporter": "python",
   "pygments_lexer": "ipython3",
   "version": "3.8.3"
  }
 },
 "nbformat": 4,
 "nbformat_minor": 2
}
